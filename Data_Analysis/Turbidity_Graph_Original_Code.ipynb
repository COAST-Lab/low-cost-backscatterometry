{
 "cells": [
  {
   "cell_type": "code",
   "execution_count": 38,
   "id": "3e082dc2",
   "metadata": {},
   "outputs": [
    {
     "ename": "SyntaxError",
     "evalue": "(unicode error) 'unicodeescape' codec can't decode bytes in position 2-3: truncated \\UXXXXXXXX escape (3043676497.py, line 4)",
     "output_type": "error",
     "traceback": [
      "\u001b[1;36m  Cell \u001b[1;32mIn[38], line 4\u001b[1;36m\u001b[0m\n\u001b[1;33m    file = \"C:\\Users\\Russe\\OneDrive\\Desktop\\Coastlab\\Data\\Test2.txt\"\u001b[0m\n\u001b[1;37m                                                                    ^\u001b[0m\n\u001b[1;31mSyntaxError\u001b[0m\u001b[1;31m:\u001b[0m (unicode error) 'unicodeescape' codec can't decode bytes in position 2-3: truncated \\UXXXXXXXX escape\n"
     ]
    }
   ],
   "source": [
    "import pandas as pd\n",
    "import matplotlib.pyplot as plt\n",
    "\n",
    "file = \"C:\\Users\\Russe\\OneDrive\\Desktop\\Coastlab\\Data\\Test2.txt\"\n",
    "\n",
    "df = pd.read_csv(file, encoding='utf-8')\n",
    "print(df)\n",
    "\n",
    "row = 1\n",
    "\n",
    "x_axis = file[row:row+15]\n",
    "y_axis = file['F1 415nm']\n",
    "plt.figure(figsize=(10,10))\n",
    "plt.scatter(x_axis, y_axis, marker=\"*\", s=100, edgecolors=\"black\", c=\"yellow\")\n",
    "plt.xlabel(\"Time\")\n",
    "plt.ylabel(\"Basic Counts\")\n",
    "plt.title(\"Basic Counts Over Time\")\n",
    "plt.show()"
   ]
  },
  {
   "cell_type": "code",
   "execution_count": null,
   "id": "0aec9779",
   "metadata": {},
   "outputs": [],
   "source": []
  }
 ],
 "metadata": {
  "kernelspec": {
   "display_name": "Python 3 (ipykernel)",
   "language": "python",
   "name": "python3"
  },
  "language_info": {
   "codemirror_mode": {
    "name": "ipython",
    "version": 3
   },
   "file_extension": ".py",
   "mimetype": "text/x-python",
   "name": "python",
   "nbconvert_exporter": "python",
   "pygments_lexer": "ipython3",
   "version": "3.10.9"
  }
 },
 "nbformat": 4,
 "nbformat_minor": 5
}
